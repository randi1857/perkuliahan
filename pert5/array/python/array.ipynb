{
 "cells": [
  {
   "cell_type": "code",
   "execution_count": 1,
   "id": "33ef3fe9",
   "metadata": {},
   "outputs": [
    {
     "name": "stdout",
     "output_type": "stream",
     "text": [
      "Honda\n",
      "Suzuki\n",
      "Yamaha\n"
     ]
    }
   ],
   "source": [
    "motor = [\"Honda\", \"Suzuki\", \"Yamaha\"]\n",
    "print(motor[0])\n",
    "print(motor[1])\n",
    "print(motor[2])"
   ]
  }
 ],
 "metadata": {
  "kernelspec": {
   "display_name": ".venv",
   "language": "python",
   "name": "python3"
  },
  "language_info": {
   "codemirror_mode": {
    "name": "ipython",
    "version": 3
   },
   "file_extension": ".py",
   "mimetype": "text/x-python",
   "name": "python",
   "nbconvert_exporter": "python",
   "pygments_lexer": "ipython3",
   "version": "3.10.12"
  }
 },
 "nbformat": 4,
 "nbformat_minor": 5
}
